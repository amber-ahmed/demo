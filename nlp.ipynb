{
  "nbformat": 4,
  "nbformat_minor": 0,
  "metadata": {
    "colab": {
      "provenance": [],
      "authorship_tag": "ABX9TyOzpO8FtfVi2Cbxsn9LxbFb",
      "include_colab_link": true
    },
    "kernelspec": {
      "name": "python3",
      "display_name": "Python 3"
    },
    "language_info": {
      "name": "python"
    }
  },
  "cells": [
    {
      "cell_type": "markdown",
      "metadata": {
        "id": "view-in-github",
        "colab_type": "text"
      },
      "source": [
        "<a href=\"https://colab.research.google.com/github/amber-ahmed/demo/blob/master/nlp.ipynb\" target=\"_parent\"><img src=\"https://colab.research.google.com/assets/colab-badge.svg\" alt=\"Open In Colab\"/></a>"
      ]
    },
    {
      "cell_type": "code",
      "execution_count": null,
      "metadata": {
        "id": "xT5dfxpTfbi1"
      },
      "outputs": [],
      "source": [
        "!pip install textblob"
      ]
    },
    {
      "cell_type": "code",
      "source": [
        "from textblob import TextBlob\n",
        "words = ['machne','learnng']\n",
        "corrected_arr = []\n",
        "for i in words:\n",
        "  corrected_arr.append(TextBlob(i))\n",
        "print('wrong words',words)\n",
        "print('corrected words are')\n",
        "for i in corrected_arr:\n",
        "  print(i.correct(),end = \" \")\n",
        "  "
      ],
      "metadata": {
        "colab": {
          "base_uri": "https://localhost:8080/"
        },
        "id": "TCjEG9OPf4tT",
        "outputId": "d2f45f57-2c31-429f-83a9-c265f8597b0f"
      },
      "execution_count": 4,
      "outputs": [
        {
          "output_type": "stream",
          "name": "stdout",
          "text": [
            "wrong words ['machne', 'learnng']\n",
            "corrected words are\n",
            "machine learning "
          ]
        }
      ]
    },
    {
      "cell_type": "code",
      "source": [
        "!pip install -U spacy\n",
        "!python3 -m spacy download en_core_web_lg\n",
        "!pip install -U textacy"
      ],
      "metadata": {
        "id": "gDpbI1GXoQVI"
      },
      "execution_count": null,
      "outputs": []
    },
    {
      "cell_type": "code",
      "source": [
        "import spacy\n",
        "nlp = spacy.load('en_core_web_lg')\n",
        "text = \"\"\"Lorem Ipsum is simply dummy text of the printing and typesetting industry. Lorem Ipsum has been the industry's \n",
        "standard dummy text ever since the 1500s, when an unknown printer took a galley of type and scrambled it to make a type specimen book. \n",
        "It has survived not only five centuries, but also the leap into electronic typesetting, remaining essentially unchanged. It was popularised in the 1960s with \n",
        "the release of Letraset sheets containing Lorem Ipsum passages, and more recently with desktop publishing software like Aldus PageMaker including versions of Lorem Ipsum.\"\"\"\n",
        "docs = nlp(text)\n",
        "for entity in docs.ents:\n",
        "  print(f\"{entity.text} ({entity.label_})\")"
      ],
      "metadata": {
        "colab": {
          "base_uri": "https://localhost:8080/"
        },
        "id": "npHdBYnaqeJi",
        "outputId": "64b56d4a-db64-4ea7-ea37-1bc96afd5a3a"
      },
      "execution_count": 8,
      "outputs": [
        {
          "output_type": "stream",
          "name": "stdout",
          "text": [
            "Lorem Ipsum (PERSON)\n",
            "Lorem Ipsum (PERSON)\n",
            "only five centuries (DATE)\n",
            "the 1960s (DATE)\n",
            "Letraset (ORG)\n",
            "Lorem Ipsum (PERSON)\n",
            "Aldus (ORG)\n",
            "PageMaker (PRODUCT)\n",
            "Lorem Ipsum (PERSON)\n"
          ]
        }
      ]
    }
  ]
}